{
 "cells": [
  {
   "cell_type": "markdown",
   "metadata": {},
   "source": [
    "# Mean: Supplemental\n",
    "\n",
    "A valuable way to view the mean is as the center of mass or balancing point of the data. For example given the following data: 2, 2, 2, 4, 4, 4, 4, 5, 5. One could model this dataset by taking a ruler to represent the location of the data. With the aforementioned dataset there are 3 possible values 2, 4, and 5. Imagine placing an object or coin at each location: the 2 inch mark, 4 inch mark, and 5 inch mark. To complete the model of the distrubition of our dataset the frequency of each value must be taken into account. The complete model would have 3 coins at the 2 inch mark, 4 coins at the 4 inch mark, and 2 coins at the 5 inch mark. It would look something like this:\n",
    "\n",
    "<img src = \"mean.png\">\n",
    "\n",
    "If it is assumed that the model is balanced, one might want to know where the fulcrum is located. In the case where the ruler is balanced the sum of the effect of the coins is equal to zero. Perhaps you remember from physics class that the effect of the coins is the weight of the coins multiplied by the distance from the fulcrum, which we will denote with A. So the effect a coin or set of coins is as follows:\n",
    "\n",
    "\\begin{equation*}\n",
    "M = {weight}*{distance}\n",
    "\\end{equation*}\n",
    "\n",
    "The weight at each location is equivalent to the number of coins or the frequecy (Each coin is a frequency of 1). Also the distance is the length from the fulcrum, A, to the location of the stack of coins. The equation above can be used to take into account all stacks of coins and the number of coins in each stack. \n",
    "\n",
    "\\begin{equation*}\n",
    "0 = \\sum_{i=1}^n f_i (x_i-A)\n",
    "\\end{equation*}\n",
    "\n",
    "Knowing that each coin is a frequency of 1, the equation reduces to\n",
    "\n",
    "\\begin{equation*}\n",
    "0 = \\sum_{i=1}^n (x_i-A)\n",
    "\\end{equation*}\n",
    "\n",
    "Rules of summation show that this equation can be rewritten as\n",
    "\n",
    "\\begin{equation*}\n",
    "0 = \\sum_{i=1}^n x_i - \\sum_{i=1}^n A\n",
    "\\end{equation*}\n",
    "\n",
    "Since we know that the fulcrum is a constant,\n",
    "\n",
    "\\begin{equation*}\n",
    "0 = \\sum_{i=1}^n x_i - NA\n",
    "\\end{equation*}\n",
    "\n",
    "where N is the total number of values. Now rearranging the equation\n",
    "\n",
    "\\begin{equation*}\n",
    "\\sum_{i=1}^n x_i = NA\n",
    "\\end{equation*}\n",
    "\n",
    "which becomes the familiar equation for the mean\n",
    "\n",
    "\\begin{equation*}\n",
    "\\frac {\\sum_{i=1}^n x_i}{N} = A\n",
    "\\end{equation*}\n",
    "\n",
    "Hopefully this helps you to see that the mean is the balancing point of the data, which makes it a good descriptor. Also the deviations or distances of the values from the mean will sum to zero. "
   ]
  }
 ],
 "metadata": {
  "kernelspec": {
   "display_name": "Python 2",
   "language": "python",
   "name": "python2"
  },
  "language_info": {
   "codemirror_mode": {
    "name": "ipython",
    "version": 2
   },
   "file_extension": ".py",
   "mimetype": "text/x-python",
   "name": "python",
   "nbconvert_exporter": "python",
   "pygments_lexer": "ipython2",
   "version": "2.7.13"
  }
 },
 "nbformat": 4,
 "nbformat_minor": 2
}
